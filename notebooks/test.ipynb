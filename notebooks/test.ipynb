{
 "cells": [
  {
   "cell_type": "code",
   "execution_count": 13,
   "id": "ced28426",
   "metadata": {},
   "outputs": [],
   "source": [
    "import numpy as np\n",
    "from pulse_toolbox import *\n",
    "from plots import *\n",
    "import matplotlib.pyplot as plt"
   ]
  },
  {
   "cell_type": "code",
   "execution_count": 15,
   "id": "31b988e0",
   "metadata": {},
   "outputs": [
    {
     "ename": "NameError",
     "evalue": "name 'plot_pulse_comparison' is not defined",
     "output_type": "error",
     "traceback": [
      "\u001b[0;31m---------------------------------------------------------------------------\u001b[0m",
      "\u001b[0;31mNameError\u001b[0m                                 Traceback (most recent call last)",
      "\u001b[0;32m/var/folders/w3/g0rz5r1d2_55wnggnt8vml180000gn/T/ipykernel_45984/3791312055.py\u001b[0m in \u001b[0;36m<module>\u001b[0;34m\u001b[0m\n\u001b[1;32m     26\u001b[0m \u001b[0;34m\u001b[0m\u001b[0m\n\u001b[1;32m     27\u001b[0m \u001b[0;31m# Plot all pulses in 3 separate comparison figures\u001b[0m\u001b[0;34m\u001b[0m\u001b[0;34m\u001b[0m\u001b[0m\n\u001b[0;32m---> 28\u001b[0;31m \u001b[0mplot_pulse_comparison\u001b[0m\u001b[0;34m(\u001b[0m\u001b[0mpulse_data\u001b[0m\u001b[0;34m,\u001b[0m \u001b[0mprefix\u001b[0m\u001b[0;34m=\u001b[0m\u001b[0;34m\"figures/pulse_compare\"\u001b[0m\u001b[0;34m)\u001b[0m\u001b[0;34m\u001b[0m\u001b[0;34m\u001b[0m\u001b[0m\n\u001b[0m",
      "\u001b[0;31mNameError\u001b[0m: name 'plot_pulse_comparison' is not defined"
     ]
    }
   ],
   "source": [
    "# Parameters\n",
    "span_T = 6\n",
    "ovs = 15\n",
    "nfft = 2048\n",
    "alpha = 0.35\n",
    "t = t_axis(span_T, ovs)\n",
    "\n",
    "\n",
    "# List to collect pulse data\n",
    "pulse_data = []\n",
    "\n",
    "# Raised Cosine\n",
    "h_rc = raised_cosine(t, alpha, normalize=True)\n",
    "f_rc, mag_rc, mag_db_rc = spectrum(h_rc, nfft, fs=ovs)\n",
    "pulse_data.append((\"Raised Cosine\", t, h_rc, f_rc, mag_rc, mag_db_rc))\n",
    "\n",
    "# BTRC\n",
    "h_btrc = btrc_pulse(t, alpha=alpha, epsilon=0.1, normalize=True)\n",
    "f_btrc, mag_btrc, mag_db_btrc = spectrum(h_btrc, nfft, fs=ovs)\n",
    "pulse_data.append((\"BTRC α=0.35, ε=0.1\", t, h_btrc, f_btrc, mag_btrc, mag_db_btrc))\n",
    "\n",
    "# ELP\n",
    "h_elp = elp_pulse(t, alpha=0.35, beta=0.1, normalize=True)\n",
    "f_elp, mag_elp, mag_db_elp = spectrum(h_elp, nfft, fs=ovs)\n",
    "pulse_data.append((\"ELP α=0.35, β=0.1\", t, h_elp, f_elp, mag_elp, mag_db_elp))\n",
    "\n",
    "# Plot all pulses in 3 separate comparison figures\n",
    "plot_pulse_comparison(pulse_data, prefix=\"figures/pulse_compare\")\n"
   ]
  },
  {
   "cell_type": "code",
   "execution_count": null,
   "id": "3d566982",
   "metadata": {},
   "outputs": [],
   "source": []
  },
  {
   "cell_type": "code",
   "execution_count": null,
   "id": "7bdb5282",
   "metadata": {},
   "outputs": [],
   "source": []
  },
  {
   "cell_type": "code",
   "execution_count": null,
   "id": "7875559f",
   "metadata": {},
   "outputs": [],
   "source": []
  }
 ],
 "metadata": {
  "kernelspec": {
   "display_name": "base",
   "language": "python",
   "name": "python3"
  },
  "language_info": {
   "codemirror_mode": {
    "name": "ipython",
    "version": 3
   },
   "file_extension": ".py",
   "mimetype": "text/x-python",
   "name": "python",
   "nbconvert_exporter": "python",
   "pygments_lexer": "ipython3",
   "version": "3.9.15"
  }
 },
 "nbformat": 4,
 "nbformat_minor": 5
}
